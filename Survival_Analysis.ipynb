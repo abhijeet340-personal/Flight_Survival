{
 "cells": [
  {
   "cell_type": "markdown",
   "id": "231239f4-c274-49ed-ad49-760d354ae7ad",
   "metadata": {},
   "source": [
    "# Install Libraries if missing"
   ]
  },
  {
   "cell_type": "markdown",
   "id": "7c6e3e1d-1818-417f-a66c-96a8f714b9fa",
   "metadata": {},
   "source": [
    "# Importing Libraries & Data"
   ]
  },
  {
   "cell_type": "code",
   "execution_count": 65,
   "id": "96d382b4-1041-4989-aed7-0ebc014a482f",
   "metadata": {},
   "outputs": [],
   "source": [
    "#Importing library\n",
    "import numpy as np \n",
    "import pandas as pd \n",
    "import matplotlib.pyplot as plt \n",
    "import seaborn as sns\n",
    "from sklearn.linear_model import LogisticRegression\n",
    "from sklearn.ensemble import RandomForestClassifier\n",
    "from sklearn.tree import DecisionTreeClassifier\n",
    "from sklearn.svm import SVC\n",
    "from sklearn.neighbors import KNeighborsClassifier\n",
    "from sklearn.naive_bayes import GaussianNB\n",
    "from sklearn.linear_model import PassiveAggressiveClassifier\n",
    "from sklearn.model_selection import train_test_split\n",
    "from sklearn.metrics import confusion_matrix, classification_report\n",
    "from sklearn.metrics import roc_curve\n",
    "from sklearn.metrics import roc_auc_score"
   ]
  },
  {
   "cell_type": "code",
   "execution_count": 66,
   "id": "86a9442b-6e7a-4d5e-8947-e0cafc0c0076",
   "metadata": {},
   "outputs": [],
   "source": [
    "#Importing Dataset\n",
    "df = pd.read_csv(\"flightpassengers.csv\")"
   ]
  },
  {
   "cell_type": "code",
   "execution_count": 67,
   "id": "9d803d86-db66-4f40-bc02-e5be90e830a2",
   "metadata": {},
   "outputs": [
    {
     "data": {
      "text/html": [
       "<div>\n",
       "<style scoped>\n",
       "    .dataframe tbody tr th:only-of-type {\n",
       "        vertical-align: middle;\n",
       "    }\n",
       "\n",
       "    .dataframe tbody tr th {\n",
       "        vertical-align: top;\n",
       "    }\n",
       "\n",
       "    .dataframe thead th {\n",
       "        text-align: right;\n",
       "    }\n",
       "</style>\n",
       "<table border=\"1\" class=\"dataframe\">\n",
       "  <thead>\n",
       "    <tr style=\"text-align: right;\">\n",
       "      <th></th>\n",
       "      <th>Survived</th>\n",
       "      <th>Pclass</th>\n",
       "      <th>Name</th>\n",
       "      <th>Sex</th>\n",
       "      <th>Age</th>\n",
       "      <th>Siblings/Spouses Aboard</th>\n",
       "      <th>Parents/Children Aboard</th>\n",
       "      <th>Fare</th>\n",
       "    </tr>\n",
       "  </thead>\n",
       "  <tbody>\n",
       "    <tr>\n",
       "      <th>0</th>\n",
       "      <td>0</td>\n",
       "      <td>3</td>\n",
       "      <td>Mr. Owen Harris Braund</td>\n",
       "      <td>male</td>\n",
       "      <td>22.0</td>\n",
       "      <td>1</td>\n",
       "      <td>0</td>\n",
       "      <td>7.2500</td>\n",
       "    </tr>\n",
       "    <tr>\n",
       "      <th>1</th>\n",
       "      <td>1</td>\n",
       "      <td>1</td>\n",
       "      <td>Mrs. John Bradley (Florence Briggs Thayer) Cum...</td>\n",
       "      <td>female</td>\n",
       "      <td>38.0</td>\n",
       "      <td>1</td>\n",
       "      <td>0</td>\n",
       "      <td>71.2833</td>\n",
       "    </tr>\n",
       "    <tr>\n",
       "      <th>2</th>\n",
       "      <td>1</td>\n",
       "      <td>3</td>\n",
       "      <td>Miss. Laina Heikkinen</td>\n",
       "      <td>female</td>\n",
       "      <td>26.0</td>\n",
       "      <td>0</td>\n",
       "      <td>0</td>\n",
       "      <td>7.9250</td>\n",
       "    </tr>\n",
       "    <tr>\n",
       "      <th>3</th>\n",
       "      <td>1</td>\n",
       "      <td>1</td>\n",
       "      <td>Mrs. Jacques Heath (Lily May Peel) Futrelle</td>\n",
       "      <td>female</td>\n",
       "      <td>35.0</td>\n",
       "      <td>1</td>\n",
       "      <td>0</td>\n",
       "      <td>53.1000</td>\n",
       "    </tr>\n",
       "    <tr>\n",
       "      <th>4</th>\n",
       "      <td>0</td>\n",
       "      <td>3</td>\n",
       "      <td>Mr. William Henry Allen</td>\n",
       "      <td>male</td>\n",
       "      <td>35.0</td>\n",
       "      <td>0</td>\n",
       "      <td>0</td>\n",
       "      <td>8.0500</td>\n",
       "    </tr>\n",
       "  </tbody>\n",
       "</table>\n",
       "</div>"
      ],
      "text/plain": [
       "   Survived  Pclass                                               Name  \\\n",
       "0         0       3                             Mr. Owen Harris Braund   \n",
       "1         1       1  Mrs. John Bradley (Florence Briggs Thayer) Cum...   \n",
       "2         1       3                              Miss. Laina Heikkinen   \n",
       "3         1       1        Mrs. Jacques Heath (Lily May Peel) Futrelle   \n",
       "4         0       3                            Mr. William Henry Allen   \n",
       "\n",
       "      Sex   Age  Siblings/Spouses Aboard  Parents/Children Aboard     Fare  \n",
       "0    male  22.0                        1                        0   7.2500  \n",
       "1  female  38.0                        1                        0  71.2833  \n",
       "2  female  26.0                        0                        0   7.9250  \n",
       "3  female  35.0                        1                        0  53.1000  \n",
       "4    male  35.0                        0                        0   8.0500  "
      ]
     },
     "execution_count": 67,
     "metadata": {},
     "output_type": "execute_result"
    }
   ],
   "source": [
    "#Looking into 5 records from dataset\n",
    "df.head()"
   ]
  },
  {
   "cell_type": "code",
   "execution_count": 68,
   "id": "43269ee9-dd4f-43af-b061-bdfb30aae534",
   "metadata": {},
   "outputs": [
    {
     "data": {
      "text/html": [
       "<div>\n",
       "<style scoped>\n",
       "    .dataframe tbody tr th:only-of-type {\n",
       "        vertical-align: middle;\n",
       "    }\n",
       "\n",
       "    .dataframe tbody tr th {\n",
       "        vertical-align: top;\n",
       "    }\n",
       "\n",
       "    .dataframe thead th {\n",
       "        text-align: right;\n",
       "    }\n",
       "</style>\n",
       "<table border=\"1\" class=\"dataframe\">\n",
       "  <thead>\n",
       "    <tr style=\"text-align: right;\">\n",
       "      <th></th>\n",
       "      <th>Survived</th>\n",
       "      <th>Pclass</th>\n",
       "      <th>Age</th>\n",
       "      <th>Siblings/Spouses Aboard</th>\n",
       "      <th>Parents/Children Aboard</th>\n",
       "      <th>Fare</th>\n",
       "    </tr>\n",
       "  </thead>\n",
       "  <tbody>\n",
       "    <tr>\n",
       "      <th>count</th>\n",
       "      <td>887.000000</td>\n",
       "      <td>887.000000</td>\n",
       "      <td>887.000000</td>\n",
       "      <td>887.000000</td>\n",
       "      <td>887.000000</td>\n",
       "      <td>887.00000</td>\n",
       "    </tr>\n",
       "    <tr>\n",
       "      <th>mean</th>\n",
       "      <td>0.385569</td>\n",
       "      <td>2.305524</td>\n",
       "      <td>29.471443</td>\n",
       "      <td>0.525366</td>\n",
       "      <td>0.383315</td>\n",
       "      <td>32.30542</td>\n",
       "    </tr>\n",
       "    <tr>\n",
       "      <th>std</th>\n",
       "      <td>0.487004</td>\n",
       "      <td>0.836662</td>\n",
       "      <td>14.121908</td>\n",
       "      <td>1.104669</td>\n",
       "      <td>0.807466</td>\n",
       "      <td>49.78204</td>\n",
       "    </tr>\n",
       "    <tr>\n",
       "      <th>min</th>\n",
       "      <td>0.000000</td>\n",
       "      <td>1.000000</td>\n",
       "      <td>0.420000</td>\n",
       "      <td>0.000000</td>\n",
       "      <td>0.000000</td>\n",
       "      <td>0.00000</td>\n",
       "    </tr>\n",
       "    <tr>\n",
       "      <th>25%</th>\n",
       "      <td>0.000000</td>\n",
       "      <td>2.000000</td>\n",
       "      <td>20.250000</td>\n",
       "      <td>0.000000</td>\n",
       "      <td>0.000000</td>\n",
       "      <td>7.92500</td>\n",
       "    </tr>\n",
       "    <tr>\n",
       "      <th>50%</th>\n",
       "      <td>0.000000</td>\n",
       "      <td>3.000000</td>\n",
       "      <td>28.000000</td>\n",
       "      <td>0.000000</td>\n",
       "      <td>0.000000</td>\n",
       "      <td>14.45420</td>\n",
       "    </tr>\n",
       "    <tr>\n",
       "      <th>75%</th>\n",
       "      <td>1.000000</td>\n",
       "      <td>3.000000</td>\n",
       "      <td>38.000000</td>\n",
       "      <td>1.000000</td>\n",
       "      <td>0.000000</td>\n",
       "      <td>31.13750</td>\n",
       "    </tr>\n",
       "    <tr>\n",
       "      <th>max</th>\n",
       "      <td>1.000000</td>\n",
       "      <td>3.000000</td>\n",
       "      <td>80.000000</td>\n",
       "      <td>8.000000</td>\n",
       "      <td>6.000000</td>\n",
       "      <td>512.32920</td>\n",
       "    </tr>\n",
       "  </tbody>\n",
       "</table>\n",
       "</div>"
      ],
      "text/plain": [
       "         Survived      Pclass         Age  Siblings/Spouses Aboard  \\\n",
       "count  887.000000  887.000000  887.000000               887.000000   \n",
       "mean     0.385569    2.305524   29.471443                 0.525366   \n",
       "std      0.487004    0.836662   14.121908                 1.104669   \n",
       "min      0.000000    1.000000    0.420000                 0.000000   \n",
       "25%      0.000000    2.000000   20.250000                 0.000000   \n",
       "50%      0.000000    3.000000   28.000000                 0.000000   \n",
       "75%      1.000000    3.000000   38.000000                 1.000000   \n",
       "max      1.000000    3.000000   80.000000                 8.000000   \n",
       "\n",
       "       Parents/Children Aboard       Fare  \n",
       "count               887.000000  887.00000  \n",
       "mean                  0.383315   32.30542  \n",
       "std                   0.807466   49.78204  \n",
       "min                   0.000000    0.00000  \n",
       "25%                   0.000000    7.92500  \n",
       "50%                   0.000000   14.45420  \n",
       "75%                   0.000000   31.13750  \n",
       "max                   6.000000  512.32920  "
      ]
     },
     "execution_count": 68,
     "metadata": {},
     "output_type": "execute_result"
    }
   ],
   "source": [
    "df.describe()"
   ]
  },
  {
   "cell_type": "markdown",
   "id": "c5568300-52cb-4107-aeed-e3a0b039525a",
   "metadata": {},
   "source": [
    "# Basic EDA & Data Cleaning (if required)"
   ]
  },
  {
   "cell_type": "code",
   "execution_count": 69,
   "id": "0fd3c107-80c2-4dd9-b64f-5eb322c1c8a9",
   "metadata": {},
   "outputs": [
    {
     "name": "stdout",
     "output_type": "stream",
     "text": [
      "Index(['Survived', 'Pclass', 'Name', 'Sex', 'Age', 'Siblings/Spouses Aboard',\n",
      "       'Parents/Children Aboard', 'Fare'],\n",
      "      dtype='object')\n",
      "Survived                     int64\n",
      "Pclass                       int64\n",
      "Name                        object\n",
      "Sex                         object\n",
      "Age                        float64\n",
      "Siblings/Spouses Aboard      int64\n",
      "Parents/Children Aboard      int64\n",
      "Fare                       float64\n",
      "dtype: object\n"
     ]
    }
   ],
   "source": [
    "#Total 8 columns in the dataframe\n",
    "print(df.columns)\n",
    "#Looking into datatyoes of different columns\n",
    "print(df.dtypes)"
   ]
  },
  {
   "cell_type": "code",
   "execution_count": 70,
   "id": "741d415b-179c-4e02-87b0-814ebd8246cf",
   "metadata": {},
   "outputs": [
    {
     "name": "stdout",
     "output_type": "stream",
     "text": [
      "<class 'pandas.core.frame.DataFrame'>\n",
      "RangeIndex: 887 entries, 0 to 886\n",
      "Data columns (total 8 columns):\n",
      " #   Column                   Non-Null Count  Dtype  \n",
      "---  ------                   --------------  -----  \n",
      " 0   Survived                 887 non-null    int64  \n",
      " 1   Pclass                   887 non-null    int64  \n",
      " 2   Name                     887 non-null    object \n",
      " 3   Sex                      887 non-null    object \n",
      " 4   Age                      887 non-null    float64\n",
      " 5   Siblings/Spouses Aboard  887 non-null    int64  \n",
      " 6   Parents/Children Aboard  887 non-null    int64  \n",
      " 7   Fare                     887 non-null    float64\n",
      "dtypes: float64(2), int64(4), object(2)\n",
      "memory usage: 55.6+ KB\n"
     ]
    }
   ],
   "source": [
    "#No missing records\n",
    "df.info()"
   ]
  },
  {
   "cell_type": "code",
   "execution_count": 71,
   "id": "f27f7091-b81d-492f-b971-d0b25261cb33",
   "metadata": {},
   "outputs": [],
   "source": [
    "#It can be noticed that \"Name\" cannot be used as feature as target feature \"Survived\" will not depend on it\n",
    "#Survived column is target feature (Given)\n",
    "#Age,Fare are numerical features\n",
    "#Pclass,Siblings/Spouses Aboard,Parents/Children Aboard are Discrete features\n",
    "#Sex is Categorical feature"
   ]
  },
  {
   "cell_type": "code",
   "execution_count": 72,
   "id": "4a60b727-59b2-4b72-a924-525ef55e27ae",
   "metadata": {},
   "outputs": [
    {
     "name": "stdout",
     "output_type": "stream",
     "text": [
      "0    545\n",
      "1    342\n",
      "Name: Survived, dtype: int64\n",
      "0    0.614431\n",
      "1    0.385569\n",
      "Name: Survived, dtype: float64\n"
     ]
    }
   ],
   "source": [
    "#To check if there is high data imbalance problem in the given dataset\n",
    "print(df.Survived.value_counts())\n",
    "print(df.Survived.value_counts(normalize=True))\n",
    "#Looking at the % value it is clear that dataset doesn't have high imbalance in terms of target feature"
   ]
  },
  {
   "cell_type": "code",
   "execution_count": 73,
   "id": "091151da-dada-44f1-9898-85c64d19576d",
   "metadata": {},
   "outputs": [
    {
     "data": {
      "text/plain": [
       "3    487\n",
       "1    216\n",
       "2    184\n",
       "Name: Pclass, dtype: int64"
      ]
     },
     "execution_count": 73,
     "metadata": {},
     "output_type": "execute_result"
    }
   ],
   "source": [
    "#To check different vales and their counts\n",
    "df[\"Pclass\"].value_counts()"
   ]
  },
  {
   "cell_type": "code",
   "execution_count": 74,
   "id": "7bb83546-55b6-4a77-a56b-f643abe10dc3",
   "metadata": {},
   "outputs": [
    {
     "name": "stdout",
     "output_type": "stream",
     "text": [
      "male      573\n",
      "female    314\n",
      "Name: Sex, dtype: int64\n",
      "      Sex  Survived\n",
      "0  female  0.742038\n",
      "1    male  0.190227\n"
     ]
    }
   ],
   "source": [
    "print(df[\"Sex\"].value_counts())\n",
    "#It is clear that females are survived more than males. So it is important feature. Similar analysis can be done for all features with respect to \"Survived\" feature\n",
    "print(df[[\"Sex\", \"Survived\"]].groupby(['Sex'], as_index=False).mean().sort_values(by='Survived', ascending=False))\n",
    "#Covert this categorical feature to encoding\n",
    "mapping = {\"male\": 0, \"female\": 1}\n",
    "df['Sex'] = df['Sex'].map(mapping)\n"
   ]
  },
  {
   "cell_type": "code",
   "execution_count": 75,
   "id": "aad30dd6-e768-4157-9b09-70346ffdb79f",
   "metadata": {},
   "outputs": [
    {
     "data": {
      "text/plain": [
       "0    604\n",
       "1    209\n",
       "2     28\n",
       "4     18\n",
       "3     16\n",
       "8      7\n",
       "5      5\n",
       "Name: Siblings/Spouses Aboard, dtype: int64"
      ]
     },
     "execution_count": 75,
     "metadata": {},
     "output_type": "execute_result"
    }
   ],
   "source": [
    "#To check different vales and their counts\n",
    "df[\"Siblings/Spouses Aboard\"].value_counts()"
   ]
  },
  {
   "cell_type": "code",
   "execution_count": 76,
   "id": "81928007-fa68-4f66-ac42-73e24e92445c",
   "metadata": {},
   "outputs": [
    {
     "data": {
      "text/plain": [
       "0    674\n",
       "1    118\n",
       "2     80\n",
       "5      5\n",
       "3      5\n",
       "4      4\n",
       "6      1\n",
       "Name: Parents/Children Aboard, dtype: int64"
      ]
     },
     "execution_count": 76,
     "metadata": {},
     "output_type": "execute_result"
    }
   ],
   "source": [
    "#To check different vales and their counts\n",
    "df[\"Parents/Children Aboard\"].value_counts()"
   ]
  },
  {
   "cell_type": "code",
   "execution_count": 77,
   "id": "472176f5-b4d9-4644-aebd-03cd61c9fe67",
   "metadata": {},
   "outputs": [
    {
     "data": {
      "text/html": [
       "<div>\n",
       "<style scoped>\n",
       "    .dataframe tbody tr th:only-of-type {\n",
       "        vertical-align: middle;\n",
       "    }\n",
       "\n",
       "    .dataframe tbody tr th {\n",
       "        vertical-align: top;\n",
       "    }\n",
       "\n",
       "    .dataframe thead th {\n",
       "        text-align: right;\n",
       "    }\n",
       "</style>\n",
       "<table border=\"1\" class=\"dataframe\">\n",
       "  <thead>\n",
       "    <tr style=\"text-align: right;\">\n",
       "      <th></th>\n",
       "      <th>Survived</th>\n",
       "      <th>Pclass</th>\n",
       "      <th>Sex</th>\n",
       "      <th>Age</th>\n",
       "      <th>Siblings/Spouses Aboard</th>\n",
       "      <th>Parents/Children Aboard</th>\n",
       "      <th>Fare</th>\n",
       "    </tr>\n",
       "  </thead>\n",
       "  <tbody>\n",
       "    <tr>\n",
       "      <th>Survived</th>\n",
       "      <td>1.000000</td>\n",
       "      <td>-0.336528</td>\n",
       "      <td>0.542152</td>\n",
       "      <td>-0.059665</td>\n",
       "      <td>-0.037082</td>\n",
       "      <td>0.080097</td>\n",
       "      <td>0.256179</td>\n",
       "    </tr>\n",
       "    <tr>\n",
       "      <th>Pclass</th>\n",
       "      <td>-0.336528</td>\n",
       "      <td>1.000000</td>\n",
       "      <td>-0.129507</td>\n",
       "      <td>-0.391492</td>\n",
       "      <td>0.085026</td>\n",
       "      <td>0.020252</td>\n",
       "      <td>-0.548919</td>\n",
       "    </tr>\n",
       "    <tr>\n",
       "      <th>Sex</th>\n",
       "      <td>0.542152</td>\n",
       "      <td>-0.129507</td>\n",
       "      <td>1.000000</td>\n",
       "      <td>-0.091875</td>\n",
       "      <td>0.113249</td>\n",
       "      <td>0.244337</td>\n",
       "      <td>0.181137</td>\n",
       "    </tr>\n",
       "    <tr>\n",
       "      <th>Age</th>\n",
       "      <td>-0.059665</td>\n",
       "      <td>-0.391492</td>\n",
       "      <td>-0.091875</td>\n",
       "      <td>1.000000</td>\n",
       "      <td>-0.297669</td>\n",
       "      <td>-0.193741</td>\n",
       "      <td>0.112329</td>\n",
       "    </tr>\n",
       "    <tr>\n",
       "      <th>Siblings/Spouses Aboard</th>\n",
       "      <td>-0.037082</td>\n",
       "      <td>0.085026</td>\n",
       "      <td>0.113249</td>\n",
       "      <td>-0.297669</td>\n",
       "      <td>1.000000</td>\n",
       "      <td>0.414244</td>\n",
       "      <td>0.158839</td>\n",
       "    </tr>\n",
       "    <tr>\n",
       "      <th>Parents/Children Aboard</th>\n",
       "      <td>0.080097</td>\n",
       "      <td>0.020252</td>\n",
       "      <td>0.244337</td>\n",
       "      <td>-0.193741</td>\n",
       "      <td>0.414244</td>\n",
       "      <td>1.000000</td>\n",
       "      <td>0.215470</td>\n",
       "    </tr>\n",
       "    <tr>\n",
       "      <th>Fare</th>\n",
       "      <td>0.256179</td>\n",
       "      <td>-0.548919</td>\n",
       "      <td>0.181137</td>\n",
       "      <td>0.112329</td>\n",
       "      <td>0.158839</td>\n",
       "      <td>0.215470</td>\n",
       "      <td>1.000000</td>\n",
       "    </tr>\n",
       "  </tbody>\n",
       "</table>\n",
       "</div>"
      ],
      "text/plain": [
       "                         Survived    Pclass       Sex       Age  \\\n",
       "Survived                 1.000000 -0.336528  0.542152 -0.059665   \n",
       "Pclass                  -0.336528  1.000000 -0.129507 -0.391492   \n",
       "Sex                      0.542152 -0.129507  1.000000 -0.091875   \n",
       "Age                     -0.059665 -0.391492 -0.091875  1.000000   \n",
       "Siblings/Spouses Aboard -0.037082  0.085026  0.113249 -0.297669   \n",
       "Parents/Children Aboard  0.080097  0.020252  0.244337 -0.193741   \n",
       "Fare                     0.256179 -0.548919  0.181137  0.112329   \n",
       "\n",
       "                         Siblings/Spouses Aboard  Parents/Children Aboard  \\\n",
       "Survived                               -0.037082                 0.080097   \n",
       "Pclass                                  0.085026                 0.020252   \n",
       "Sex                                     0.113249                 0.244337   \n",
       "Age                                    -0.297669                -0.193741   \n",
       "Siblings/Spouses Aboard                 1.000000                 0.414244   \n",
       "Parents/Children Aboard                 0.414244                 1.000000   \n",
       "Fare                                    0.158839                 0.215470   \n",
       "\n",
       "                             Fare  \n",
       "Survived                 0.256179  \n",
       "Pclass                  -0.548919  \n",
       "Sex                      0.181137  \n",
       "Age                      0.112329  \n",
       "Siblings/Spouses Aboard  0.158839  \n",
       "Parents/Children Aboard  0.215470  \n",
       "Fare                     1.000000  "
      ]
     },
     "execution_count": 77,
     "metadata": {},
     "output_type": "execute_result"
    }
   ],
   "source": [
    "#This primilinary matrix suggests that target feature is highly correlated to Sex,Pclass and Fare in comparison to other features\n",
    "#Also it can be noticed that no 2 independent feature are highly correlated\n",
    "df.corr()"
   ]
  },
  {
   "cell_type": "code",
   "execution_count": 78,
   "id": "89fd08b8-531b-45f6-b93a-31c2a00bbd45",
   "metadata": {},
   "outputs": [
    {
     "name": "stderr",
     "output_type": "stream",
     "text": [
      "/Users/a117442680/Library/Python/3.8/lib/python/site-packages/seaborn/axisgrid.py:316: UserWarning: The `size` parameter has been renamed to `height`; please update your code.\n",
      "  warnings.warn(msg, UserWarning)\n",
      "/Users/a117442680/Library/Python/3.8/lib/python/site-packages/seaborn/axisgrid.py:645: UserWarning: Using the barplot function without specifying `order` is likely to produce an incorrect plot.\n",
      "  warnings.warn(warning)\n"
     ]
    },
    {
     "data": {
      "text/plain": [
       "<seaborn.axisgrid.FacetGrid at 0x10487ebe0>"
      ]
     },
     "execution_count": 78,
     "metadata": {},
     "output_type": "execute_result"
    },
    {
     "data": {
      "image/png": "[encoded data removed]",
      "text/plain": [
       "<Figure size 514.88x475.2 with 6 Axes>"
      ]
     },
     "metadata": {
      "needs_background": "light"
     },
     "output_type": "display_data"
    }
   ],
   "source": [
    "#We can use seaborn for better visualizations\n",
    "#For now, I am not exploring it much on this dataset but it can be done on other features as well\n",
    "grid = sns.FacetGrid(df, row='Pclass', col='Survived', size=2.2, aspect=1.6)\n",
    "grid.map(sns.barplot, 'Sex', 'Fare', alpha=.5, ci=None)\n",
    "grid.add_legend()"
   ]
  },
  {
   "cell_type": "code",
   "execution_count": 80,
   "id": "de6b81a8-4b28-4ee4-8ebf-840e2279ca85",
   "metadata": {},
   "outputs": [
    {
     "data": {
      "text/plain": [
       "<matplotlib.axes._subplots.AxesSubplot at 0x12bfdcbe0>"
      ]
     },
     "execution_count": 80,
     "metadata": {},
     "output_type": "execute_result"
    },
    {
     "data": {
      "image/png": "[encoded data removed]",
      "text/plain": [
       "<Figure size 1080x720 with 1 Axes>"
      ]
     },
     "metadata": {
      "needs_background": "light"
     },
     "output_type": "display_data"
    }
   ],
   "source": [
    "#Checking Outliers: Age and Fare has outliers but for now I am ignoring it\n",
    "#Ideally this outliers should have been checked for only continuous numerical data but for now I have checked on complete dataset \n",
    "#Drop Name from dataset\n",
    "df_1=df.drop([\"Name\"],axis=1)\n",
    "plt.figure(figsize=(15,10))\n",
    "df_1.boxplot()"
   ]
  },
  {
   "cell_type": "markdown",
   "id": "2049d327-0e88-410a-80b0-cc0a92466c47",
   "metadata": {},
   "source": [
    "# Training multiple model"
   ]
  },
  {
   "cell_type": "code",
   "execution_count": 81,
   "id": "3a14a0bc-4550-43be-aa41-60a0a4a73768",
   "metadata": {},
   "outputs": [],
   "source": [
    "#lets consider all columns expect Survived as independent features\n",
    "#Survived is target feature\n",
    "y=df_1.Survived\n",
    "#Remaining are independent features\n",
    "X=df_1.drop([\"Survived\"],axis=1)"
   ]
  },
  {
   "cell_type": "code",
   "execution_count": 82,
   "id": "b0b8f6ac-b585-4275-a35f-9f666d6c1a61",
   "metadata": {},
   "outputs": [],
   "source": [
    "#Splitting dataset into training and test dataset\n",
    "X_train,X_test,Y_train,Y_test=train_test_split(X,y,test_size=0.2,random_state=4)"
   ]
  },
  {
   "cell_type": "code",
   "execution_count": 83,
   "id": "f814f096-3ac4-49a6-a1b7-0723a00b858e",
   "metadata": {},
   "outputs": [
    {
     "name": "stdout",
     "output_type": "stream",
     "text": [
      "lr= 0.8089887640449438\n",
      "svc= 0.6910112359550562\n",
      "dt= 0.8314606741573034\n",
      "rf= 0.8314606741573034\n",
      "KNN= 0.6460674157303371\n",
      "nb= 0.7752808988764045\n",
      "pac= 0.5955056179775281\n"
     ]
    }
   ],
   "source": [
    "lr=LogisticRegression()\n",
    "svm=SVC()\n",
    "dt=DecisionTreeClassifier(max_depth=4,random_state=5)\n",
    "rf=RandomForestClassifier(max_depth=4,n_estimators=10,max_features=4,random_state=0)\n",
    "knn = KNeighborsClassifier(n_neighbors=5)\n",
    "nb = GaussianNB()\n",
    "pac = PassiveAggressiveClassifier(max_iter=100)\n",
    "\n",
    "lr.fit(X_train,Y_train)\n",
    "print(\"lr=\",lr.score(X_test,Y_test))\n",
    "\n",
    "svm.fit(X_train,Y_train)\n",
    "print(\"svc=\",svm.score(X_test,Y_test))\n",
    "\n",
    "dt.fit(X_train,Y_train)\n",
    "print(\"dt=\",dt.score(X_test,Y_test))\n",
    "\n",
    "rf.fit(X_train,Y_train)\n",
    "print(\"rf=\",rf.score(X_test,Y_test))\n",
    "\n",
    "knn.fit(X_train,Y_train)\n",
    "print(\"KNN=\" , knn.score(X_test,Y_test))\n",
    "\n",
    "nb.fit(X_train,Y_train)\n",
    "print (\"nb=\", nb.score(X_test,Y_test))\n",
    "\n",
    "pac.fit(X_train,Y_train)\n",
    "print (\"pac=\", pac.score(X_test,Y_test))\n",
    "\n"
   ]
  },
  {
   "cell_type": "code",
   "execution_count": 84,
   "id": "110f94e5-2fbe-4db4-80b5-b48994589511",
   "metadata": {},
   "outputs": [
    {
     "data": {
      "image/png": "[encoded data removed]",
      "text/plain": [
       "<Figure size 1800x1440 with 1 Axes>"
      ]
     },
     "metadata": {
      "needs_background": "light"
     },
     "output_type": "display_data"
    }
   ],
   "source": [
    "#Decision Tree visualisation\n",
    "from sklearn import tree\n",
    "plt.figure(figsize=(25,20))  \n",
    "_ = tree.plot_tree(dt, feature_names = X_train.columns, \n",
    "             filled=True, fontsize=6, rounded = True)\n",
    "plt.show()"
   ]
  },
  {
   "cell_type": "markdown",
   "id": "dde04f93-291c-4b94-8103-b2c285a20ea8",
   "metadata": {},
   "source": [
    "# Deciding best model using above preliminary analysis"
   ]
  },
  {
   "cell_type": "code",
   "execution_count": 85,
   "id": "d63f5585-4f5c-420c-ac81-c5e5139d83e0",
   "metadata": {},
   "outputs": [
    {
     "name": "stdout",
     "output_type": "stream",
     "text": [
      "dt_training_accuracy= 0.8363892806770099\n",
      "dt_test_accuracy= 0.8314606741573034\n"
     ]
    }
   ],
   "source": [
    "#Decision tree is performing better with current parameters\n",
    "#Training accuracy\n",
    "print(\"dt_training_accuracy=\",dt.score(X_train,Y_train))\n",
    "#Test Accuracy\n",
    "print(\"dt_test_accuracy=\",dt.score(X_test,Y_test))\n",
    "#It can be noticed the model is not suffering from Overfitting"
   ]
  },
  {
   "cell_type": "code",
   "execution_count": 86,
   "id": "5a6faa77-eaec-4da1-a98f-a8755aa4df47",
   "metadata": {},
   "outputs": [],
   "source": [
    "#Computing predictions\n",
    "Y_pred=dt.predict(X_test)"
   ]
  },
  {
   "cell_type": "code",
   "execution_count": 87,
   "id": "d8f29118-4c2f-4efb-9c21-ef02c7138abf",
   "metadata": {},
   "outputs": [
    {
     "data": {
      "text/plain": [
       "array([[103,  14],\n",
       "       [ 16,  45]])"
      ]
     },
     "execution_count": 87,
     "metadata": {},
     "output_type": "execute_result"
    }
   ],
   "source": [
    "#Evaluating confusion matrix\n",
    "confusion_matrix(Y_test, Y_pred)"
   ]
  },
  {
   "cell_type": "code",
   "execution_count": 88,
   "id": "df037331-a624-4c6c-8562-5d39dba56ece",
   "metadata": {},
   "outputs": [
    {
     "data": {
      "text/html": [
       "<div>\n",
       "<style scoped>\n",
       "    .dataframe tbody tr th:only-of-type {\n",
       "        vertical-align: middle;\n",
       "    }\n",
       "\n",
       "    .dataframe tbody tr th {\n",
       "        vertical-align: top;\n",
       "    }\n",
       "\n",
       "    .dataframe thead th {\n",
       "        text-align: right;\n",
       "    }\n",
       "</style>\n",
       "<table border=\"1\" class=\"dataframe\">\n",
       "  <thead>\n",
       "    <tr style=\"text-align: right;\">\n",
       "      <th></th>\n",
       "      <th>precision</th>\n",
       "      <th>recall</th>\n",
       "      <th>f1-score</th>\n",
       "      <th>support</th>\n",
       "    </tr>\n",
       "  </thead>\n",
       "  <tbody>\n",
       "    <tr>\n",
       "      <th>0</th>\n",
       "      <td>0.865546</td>\n",
       "      <td>0.880342</td>\n",
       "      <td>0.872881</td>\n",
       "      <td>117.000000</td>\n",
       "    </tr>\n",
       "    <tr>\n",
       "      <th>1</th>\n",
       "      <td>0.762712</td>\n",
       "      <td>0.737705</td>\n",
       "      <td>0.750000</td>\n",
       "      <td>61.000000</td>\n",
       "    </tr>\n",
       "    <tr>\n",
       "      <th>accuracy</th>\n",
       "      <td>0.831461</td>\n",
       "      <td>0.831461</td>\n",
       "      <td>0.831461</td>\n",
       "      <td>0.831461</td>\n",
       "    </tr>\n",
       "    <tr>\n",
       "      <th>macro avg</th>\n",
       "      <td>0.814129</td>\n",
       "      <td>0.809023</td>\n",
       "      <td>0.811441</td>\n",
       "      <td>178.000000</td>\n",
       "    </tr>\n",
       "    <tr>\n",
       "      <th>weighted avg</th>\n",
       "      <td>0.830305</td>\n",
       "      <td>0.831461</td>\n",
       "      <td>0.830770</td>\n",
       "      <td>178.000000</td>\n",
       "    </tr>\n",
       "  </tbody>\n",
       "</table>\n",
       "</div>"
      ],
      "text/plain": [
       "              precision    recall  f1-score     support\n",
       "0              0.865546  0.880342  0.872881  117.000000\n",
       "1              0.762712  0.737705  0.750000   61.000000\n",
       "accuracy       0.831461  0.831461  0.831461    0.831461\n",
       "macro avg      0.814129  0.809023  0.811441  178.000000\n",
       "weighted avg   0.830305  0.831461  0.830770  178.000000"
      ]
     },
     "execution_count": 88,
     "metadata": {},
     "output_type": "execute_result"
    }
   ],
   "source": [
    "#Generating classification report\n",
    "pd.DataFrame(classification_report(Y_test, Y_pred,output_dict=True)).T"
   ]
  },
  {
   "cell_type": "markdown",
   "id": "35c94beb-1638-4752-835f-8c2a7875ffde",
   "metadata": {},
   "source": [
    "# Prediction Code"
   ]
  },
  {
   "cell_type": "code",
   "execution_count": 89,
   "id": "320723d8-90ce-4240-af89-b75c96235ee4",
   "metadata": {},
   "outputs": [],
   "source": [
    "#Extracting probabilities\n",
    "probabilities=dt.predict_proba(X_test)\n",
    "Survived_probabilities=probabilities[:,1]"
   ]
  },
  {
   "cell_type": "code",
   "execution_count": 90,
   "id": "af6505ff-4c41-4215-924e-9eb8ce65eff3",
   "metadata": {},
   "outputs": [],
   "source": [
    "#Creating dataframe with actual classes and survival probabilities\n",
    "df_prob=pd.DataFrame([Survived_probabilities,Y_test]).T\n",
    "df_prob.columns=[\"Survived_probabilities\",\"Actual_Class\"]"
   ]
  },
  {
   "cell_type": "markdown",
   "id": "83a1d36e-f93d-4f5b-b963-ec3cc945bfc9",
   "metadata": {},
   "source": [
    "# Plotting Results"
   ]
  },
  {
   "cell_type": "code",
   "execution_count": 91,
   "id": "3ffdeb04-10c8-4d93-a8e2-a804aee76803",
   "metadata": {},
   "outputs": [
    {
     "data": {
      "image/png": "[encoded data removed]",
      "text/plain": [
       "<Figure size 432x288 with 1 Axes>"
      ]
     },
     "metadata": {
      "needs_background": "light"
     },
     "output_type": "display_data"
    }
   ],
   "source": [
    "dt_fpr, dt_tpr, dt_thresholds = roc_curve(Y_test, Survived_probabilities)\n",
    "# plot the roc curve for the model\n",
    "plt.plot(dt_fpr, dt_tpr, marker='.', label='Decision Tree')\n",
    "# axis labels\n",
    "plt.xlabel('False Positive Rate')\n",
    "plt.ylabel('True Positive Rate')\n",
    "# show the legend\n",
    "plt.legend()\n",
    "# show the plot\n",
    "plt.show()\n"
   ]
  },
  {
   "cell_type": "code",
   "execution_count": 92,
   "id": "588e9f4c-d9df-4147-9418-dc4c65fd1f46",
   "metadata": {},
   "outputs": [
    {
     "name": "stdout",
     "output_type": "stream",
     "text": [
      "0.8535799355471486\n"
     ]
    }
   ],
   "source": [
    "#AUC values needs to be compared for deciding best model from different models but for now I have used it only for decision tree\n",
    "dt_auc = roc_auc_score(Y_test, Survived_probabilities)\n",
    "print(dt_auc)"
   ]
  },
  {
   "cell_type": "code",
   "execution_count": 93,
   "id": "452a1e32-ec22-4d28-96da-c375798b7676",
   "metadata": {},
   "outputs": [
    {
     "name": "stdout",
     "output_type": "stream",
     "text": [
      "Optimal Threshold=0.670588, G-Mean=0.806\n"
     ]
    }
   ],
   "source": [
    "#To find optimal threshold value for better classification\n",
    "gmeans = np.sqrt(dt_tpr * (1-dt_fpr))\n",
    "ix = np.argmax(gmeans)\n",
    "print('Optimal Threshold=%f, G-Mean=%.3f' % (dt_thresholds[ix], gmeans[ix]))"
   ]
  },
  {
   "cell_type": "code",
   "execution_count": 94,
   "id": "15c4e85c-64f3-48e2-ab84-c40d40b708e8",
   "metadata": {},
   "outputs": [
    {
     "data": {
      "text/plain": [
       "<seaborn.axisgrid.FacetGrid at 0x12becb0a0>"
      ]
     },
     "execution_count": 94,
     "metadata": {},
     "output_type": "execute_result"
    },
    {
     "data": {
      "image/png": "[encoded data removed]",
      "text/plain": [
       "<Figure size 430.875x360 with 1 Axes>"
      ]
     },
     "metadata": {
      "needs_background": "light"
     },
     "output_type": "display_data"
    }
   ],
   "source": [
    "#To distinguish classes based on their probabilities and below plot also give hint that optimal threshold should be in the same range\n",
    "sns.displot(df_prob, x=\"Survived_probabilities\", hue=\"Actual_Class\", kind=\"kde\", fill=True)"
   ]
  },
  {
   "cell_type": "markdown",
   "id": "87a06319-094b-4ab9-80d6-26f531c4d22e",
   "metadata": {},
   "source": [
    "# Quick Inferences"
   ]
  },
  {
   "cell_type": "code",
   "execution_count": null,
   "id": "ea1a8d3f-c99a-4f0c-9a5c-d010c4d9e8a0",
   "metadata": {},
   "outputs": [],
   "source": [
    "# It can be noticed from base model, decision tree and random forest giving same results\n",
    "# I have used decision tree for prediction\n",
    "# Optimal threshold is 0.67, so this can be used for better classification and this value can also be verified from kde plot\n",
    "# AUC value is 0.85 for decision tree (Ideally this needs to be compared between all models but I will keep that as next steps)"
   ]
  },
  {
   "cell_type": "markdown",
   "id": "abb26367-c663-410f-8f36-c56be9b3b087",
   "metadata": {},
   "source": [
    "# Normalizing the dataset"
   ]
  },
  {
   "cell_type": "code",
   "execution_count": 64,
   "id": "db7e9557-f5ef-44eb-922c-f608aad8886d",
   "metadata": {},
   "outputs": [
    {
     "name": "stdout",
     "output_type": "stream",
     "text": [
      "lr= 0.8146067415730337\n",
      "svc= 0.8426966292134831\n",
      "dt= 0.8314606741573034\n",
      "rf= 0.8314606741573034\n",
      "KNN= 0.8370786516853933\n",
      "nb= 0.7752808988764045\n",
      "pac= 0.3539325842696629\n"
     ]
    }
   ],
   "source": [
    "#After normalizing data, we can notice that accuracy for logistic regression, support vector machines and KNN have increased\n",
    "#For now, I have written the prediction code based on non-normalization dataset but normalized dataset can also be used for better results\n",
    "#This is only for demonstration purpose\n",
    "from sklearn.preprocessing import MinMaxScaler\n",
    "scaler = MinMaxScaler()\n",
    "\n",
    "scaler.fit(X_train)   # fit only on train dataset\n",
    "X_train = scaler.transform(X_train)\n",
    "X_test = scaler.transform(X_test)\n",
    "\n",
    "\n",
    "lr=LogisticRegression()\n",
    "svm=SVC()\n",
    "dt=DecisionTreeClassifier(max_depth=4,random_state=5)\n",
    "rf=RandomForestClassifier(max_depth=4,n_estimators=10,max_features=4,random_state=0)\n",
    "knn = KNeighborsClassifier(n_neighbors=5)\n",
    "nb = GaussianNB()\n",
    "pac = PassiveAggressiveClassifier(max_iter=100)\n",
    "\n",
    "lr.fit(X_train,Y_train)\n",
    "print(\"lr=\",lr.score(X_test,Y_test))\n",
    "\n",
    "svm.fit(X_train,Y_train)\n",
    "print(\"svc=\",svm.score(X_test,Y_test))\n",
    "\n",
    "dt.fit(X_train,Y_train)\n",
    "print(\"dt=\",dt.score(X_test,Y_test))\n",
    "\n",
    "rf.fit(X_train,Y_train)\n",
    "print(\"rf=\",rf.score(X_test,Y_test))\n",
    "\n",
    "knn.fit(X_train,Y_train)\n",
    "print(\"KNN=\" , knn.score(X_test,Y_test))\n",
    "\n",
    "nb.fit(X_train,Y_train)\n",
    "print (\"nb=\", nb.score(X_test,Y_test))\n",
    "\n",
    "pac.fit(X_train,Y_train)\n",
    "print (\"pac=\", pac.score(X_test,Y_test))\n",
    "\n"
   ]
  },
  {
   "cell_type": "markdown",
   "id": "629dbca5-5d55-4fd7-9932-8ea33767df7d",
   "metadata": {},
   "source": [
    "# Next Steps"
   ]
  },
  {
   "cell_type": "code",
   "execution_count": null,
   "id": "07a90b07-d579-42cf-8e34-80065615ea1c",
   "metadata": {},
   "outputs": [],
   "source": [
    "#Extensive EDA to check how much target feature \"survived\" dependent on each independent feature using seaborn library\n",
    "#We have used quick correlation matrix but better methods can be used. For e.g. correlation between continuos and categorical features etc\n",
    "#Outliers can be handled\n",
    "#Splitting ratio between train and test dataset can be tuned\n",
    "#Cross validation can be implemented\n",
    "#Compare different models AUC values\n",
    "#Advance ML models can also be explored such as xgboost & LightGBM etc\n",
    "#We can also check for feature importance and try different models based on the feature importance\n",
    "#Hyperparameter tuning can be performed\n",
    "#We can compare different models using AUC values\n",
    "#We can look for results with optimal threshold value printed above"
   ]
  },
  {
   "cell_type": "code",
   "execution_count": null,
   "id": "e30de40b-245e-4f7b-970e-193eadb29d56",
   "metadata": {},
   "outputs": [],
   "source": []
  }
 ],
 "metadata": {
  "kernelspec": {
   "display_name": "Python 3",
   "language": "python",
   "name": "python3"
  },
  "language_info": {
   "codemirror_mode": {
    "name": "ipython",
    "version": 3
   },
   "file_extension": ".py",
   "mimetype": "text/x-python",
   "name": "python",
   "nbconvert_exporter": "python",
   "pygments_lexer": "ipython3",
   "version": "3.8.2"
  }
 },
 "nbformat": 4,
 "nbformat_minor": 5
}
